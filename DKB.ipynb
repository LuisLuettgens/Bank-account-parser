{
 "cells": [
  {
   "cell_type": "code",
   "execution_count": 1,
   "metadata": {},
   "outputs": [],
   "source": [
    "import sys\n",
    "sys.path.insert(0,'./src')\n",
    "\n",
    "import BankAccounts\n",
    "from datetime import datetime, timedelta"
   ]
  },
  {
   "cell_type": "code",
   "execution_count": 2,
   "metadata": {},
   "outputs": [
    {
     "name": "stdout",
     "output_type": "stream",
     "text": [
      "\n",
      "Generating meta data...\t\t\t\t\tdone!\n",
      "Checking whether table is in expected DKB-format...\tdone!\n",
      "Sorting the table based on Wertstellung-column...\tdone!\n",
      "Adding a transaction label column...\t\t\tdone!\n",
      "Adding a column with the daily balance...\t\tdone!\n",
      "Updatig daily transactions...\t\t\t\tdone!\n",
      "Adding labels to transactions...\t\t\tdone!\n",
      "\n",
      "In total 66.44 % of all transactions have labels.\n",
      "\n"
     ]
    }
   ],
   "source": [
    "# Create a bank account and label it based on pre-defined rules\n",
    "\n",
    "ba = BankAccounts.DKB('/path/to/your.csv', pre_labeled=False)"
   ]
  },
  {
   "cell_type": "code",
   "execution_count": null,
   "metadata": {},
   "outputs": [],
   "source": [
    "# Get a summary of all transactions from the last quater\n",
    "ba.summary_last_quater()"
   ]
  },
  {
   "cell_type": "code",
   "execution_count": 5,
   "metadata": {},
   "outputs": [],
   "source": [
    "# Get a summary af an specific time period\n",
    "start = datetime(2019,5,12,0,0,0)\n",
    "end = datetime(2019,8,3,0,0,0)\n",
    "\n",
    "ba.summary(start=start,end=end)"
   ]
  },
  {
   "cell_type": "code",
   "execution_count": null,
   "metadata": {},
   "outputs": [],
   "source": [
    "# Show unlabeled data\n",
    "ba.show_None()"
   ]
  },
  {
   "cell_type": "code",
   "execution_count": 3,
   "metadata": {},
   "outputs": [
    {
     "data": {
      "text/plain": [
       "['Groceries',\n",
       " 'Income',\n",
       " 'Dining',\n",
       " 'Mobil phone /\\n Internet',\n",
       " 'Travel',\n",
       " 'Credit card',\n",
       " 'Insurance',\n",
       " 'EoQ',\n",
       " 'Culture',\n",
       " 'Salary',\n",
       " 'Medical',\n",
       " 'Non-Food',\n",
       " 'Car',\n",
       " 'Fashion',\n",
       " 'Rent',\n",
       " 'None',\n",
       " 'Private']"
      ]
     },
     "execution_count": 3,
     "metadata": {},
     "output_type": "execute_result"
    }
   ],
   "source": [
    "# Show known categories\n",
    "ba.categories"
   ]
  },
  {
   "cell_type": "code",
   "execution_count": null,
   "metadata": {},
   "outputs": [],
   "source": [
    "# Add a label to a row\n",
    "ba.change_label(row_index,'category')"
   ]
  },
  {
   "cell_type": "code",
   "execution_count": null,
   "metadata": {},
   "outputs": [],
   "source": [
    "# Save the current status of the bank account\n",
    "ba.save_data('/path/to/save/data.csv')"
   ]
  }
 ],
 "metadata": {
  "kernelspec": {
   "display_name": "Python 3",
   "language": "python",
   "name": "python3"
  },
  "language_info": {
   "codemirror_mode": {
    "name": "ipython",
    "version": 3
   },
   "file_extension": ".py",
   "mimetype": "text/x-python",
   "name": "python",
   "nbconvert_exporter": "python",
   "pygments_lexer": "ipython3",
   "version": "3.7.1"
  }
 },
 "nbformat": 4,
 "nbformat_minor": 2
}
