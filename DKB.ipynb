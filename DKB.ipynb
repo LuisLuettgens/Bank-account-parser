# -*- coding: utf-8 -*-
"""
Created on Wed Apr  8 12:34:09 2020

@author: LUL3FE
"""

from IPython.core.display import display, HTML
# setze die verwendete Breite auf 95% der Bildschirmbreite
display(HTML("<style>.container { width:95% !important; }</style>"))

%reload_ext autoreload
%autoreload 2
%matplotlib inline

import BankAccounts
#from label_row import label_row
from datetime import datetime, timedelta
import pandas as pd

ba              = BankAccounts.DKB('test.csv')
